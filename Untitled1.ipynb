{
 "cells": [
  {
   "cell_type": "code",
   "execution_count": 12,
   "id": "141b6517-6e50-41a3-a810-d8b07cc241c4",
   "metadata": {},
   "outputs": [],
   "source": [
    "import pandas as pd \n",
    "import matplotlib.pyplot as plt\n",
    "df = pd.read_csv('.\\..\\Arsenal_Sentiment_Analysis\\All_Tweets_Arsenal.csv')"
   ]
  },
  {
   "cell_type": "code",
   "execution_count": 6,
   "id": "5add260e-a161-41fc-95b6-6c7e91b1d984",
   "metadata": {},
   "outputs": [],
   "source": [
    "from wordcloud import WordCloud"
   ]
  },
  {
   "cell_type": "code",
   "execution_count": 7,
   "id": "055dd6db-ca2e-4c9d-a243-da1b3b694d00",
   "metadata": {},
   "outputs": [
    {
     "data": {
      "text/html": [
       "<div>\n",
       "<style scoped>\n",
       "    .dataframe tbody tr th:only-of-type {\n",
       "        vertical-align: middle;\n",
       "    }\n",
       "\n",
       "    .dataframe tbody tr th {\n",
       "        vertical-align: top;\n",
       "    }\n",
       "\n",
       "    .dataframe thead th {\n",
       "        text-align: right;\n",
       "    }\n",
       "</style>\n",
       "<table border=\"1\" class=\"dataframe\">\n",
       "  <thead>\n",
       "    <tr style=\"text-align: right;\">\n",
       "      <th></th>\n",
       "      <th>Date</th>\n",
       "      <th>Username</th>\n",
       "      <th>Tweet</th>\n",
       "      <th>TweetLikes</th>\n",
       "      <th>TweetReplies</th>\n",
       "      <th>RetweetCount</th>\n",
       "      <th>Positive</th>\n",
       "    </tr>\n",
       "  </thead>\n",
       "  <tbody>\n",
       "    <tr>\n",
       "      <th>0</th>\n",
       "      <td>2022-04-13 13:35:44+00:00</td>\n",
       "      <td>Anonymous186164</td>\n",
       "      <td>@dustsorcerer 1. Combat Warriors\\n2. Black Mag...</td>\n",
       "      <td>0</td>\n",
       "      <td>0</td>\n",
       "      <td>0</td>\n",
       "      <td>False</td>\n",
       "    </tr>\n",
       "    <tr>\n",
       "      <th>1</th>\n",
       "      <td>2022-04-13 13:35:43+00:00</td>\n",
       "      <td>Anonymous90859</td>\n",
       "      <td>@El_Mozquetero So you want arsenal to be losin...</td>\n",
       "      <td>0</td>\n",
       "      <td>0</td>\n",
       "      <td>0</td>\n",
       "      <td>False</td>\n",
       "    </tr>\n",
       "    <tr>\n",
       "      <th>2</th>\n",
       "      <td>2022-04-13 13:35:42+00:00</td>\n",
       "      <td>Anonymous209962</td>\n",
       "      <td>Letras que dibujan sonrisas, que llenan el alm...</td>\n",
       "      <td>0</td>\n",
       "      <td>0</td>\n",
       "      <td>0</td>\n",
       "      <td>False</td>\n",
       "    </tr>\n",
       "    <tr>\n",
       "      <th>3</th>\n",
       "      <td>2022-04-13 13:35:42+00:00</td>\n",
       "      <td>Anonymous334676</td>\n",
       "      <td>@arse_talk @El_Mozquetero I don't think an Ars...</td>\n",
       "      <td>0</td>\n",
       "      <td>0</td>\n",
       "      <td>0</td>\n",
       "      <td>False</td>\n",
       "    </tr>\n",
       "    <tr>\n",
       "      <th>4</th>\n",
       "      <td>2022-04-13 13:35:36+00:00</td>\n",
       "      <td>Anonymous272092</td>\n",
       "      <td>@bubblecheebutt Je vais pas relever le connard...</td>\n",
       "      <td>0</td>\n",
       "      <td>0</td>\n",
       "      <td>0</td>\n",
       "      <td>False</td>\n",
       "    </tr>\n",
       "  </tbody>\n",
       "</table>\n",
       "</div>"
      ],
      "text/plain": [
       "                        Date         Username  \\\n",
       "0  2022-04-13 13:35:44+00:00  Anonymous186164   \n",
       "1  2022-04-13 13:35:43+00:00   Anonymous90859   \n",
       "2  2022-04-13 13:35:42+00:00  Anonymous209962   \n",
       "3  2022-04-13 13:35:42+00:00  Anonymous334676   \n",
       "4  2022-04-13 13:35:36+00:00  Anonymous272092   \n",
       "\n",
       "                                               Tweet  TweetLikes  \\\n",
       "0  @dustsorcerer 1. Combat Warriors\\n2. Black Mag...           0   \n",
       "1  @El_Mozquetero So you want arsenal to be losin...           0   \n",
       "2  Letras que dibujan sonrisas, que llenan el alm...           0   \n",
       "3  @arse_talk @El_Mozquetero I don't think an Ars...           0   \n",
       "4  @bubblecheebutt Je vais pas relever le connard...           0   \n",
       "\n",
       "   TweetReplies  RetweetCount  Positive  \n",
       "0             0             0     False  \n",
       "1             0             0     False  \n",
       "2             0             0     False  \n",
       "3             0             0     False  \n",
       "4             0             0     False  "
      ]
     },
     "execution_count": 7,
     "metadata": {},
     "output_type": "execute_result"
    }
   ],
   "source": [
    "df.head()"
   ]
  },
  {
   "cell_type": "code",
   "execution_count": 8,
   "id": "a0cd80b6-6160-4a00-8292-136ec626265c",
   "metadata": {},
   "outputs": [],
   "source": [
    "text = df.Tweet[0]"
   ]
  },
  {
   "cell_type": "code",
   "execution_count": 11,
   "id": "3c432dac-fff7-420c-ac3a-3ebd89b378d9",
   "metadata": {},
   "outputs": [],
   "source": [
    "wordcloud = WordCloud().generate(text)"
   ]
  },
  {
   "cell_type": "code",
   "execution_count": null,
   "id": "7d36f795-c2a4-45a8-aa5c-99039b5e34c4",
   "metadata": {},
   "outputs": [],
   "source": [
    "plt.imshow(wordcloud, interpolation='bilinear')\n",
    "plt.axis(\"off\")\n",
    "plt.show()"
   ]
  }
 ],
 "metadata": {
  "kernelspec": {
   "display_name": "py37",
   "language": "python",
   "name": "py37"
  },
  "language_info": {
   "codemirror_mode": {
    "name": "ipython",
    "version": 3
   },
   "file_extension": ".py",
   "mimetype": "text/x-python",
   "name": "python",
   "nbconvert_exporter": "python",
   "pygments_lexer": "ipython3",
   "version": "3.7.0"
  }
 },
 "nbformat": 4,
 "nbformat_minor": 5
}
